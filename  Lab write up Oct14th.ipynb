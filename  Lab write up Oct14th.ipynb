{
 "cells": [
  {
   "cell_type": "code",
   "execution_count": 1,
   "metadata": {},
   "outputs": [
    {
     "name": "stdout",
     "output_type": "stream",
     "text": [
      "c =  205.2\n"
     ]
    }
   ],
   "source": [
    "import numpy as np \n",
    "\n",
    "def fred(a,b):\n",
    "    c= (a+b)*12\n",
    "    return c\n",
    "a= 13.2\n",
    "b=3.9\n",
    "c=fred(a,b)\n",
    "\n",
    "print(\"c = \", c)"
   ]
  },
  {
   "cell_type": "code",
   "execution_count": 2,
   "metadata": {},
   "outputs": [],
   "source": [
    "def rule (dA, c):\n",
    "    return c*dA"
   ]
  },
  {
   "cell_type": "code",
   "execution_count": 3,
   "metadata": {},
   "outputs": [],
   "source": [
    "def rule2 (A,dA,m,c):\n",
    "    return c*m*(A**(m-1))*dA"
   ]
  },
  {
   "cell_type": "code",
   "execution_count": 4,
   "metadata": {},
   "outputs": [],
   "source": [
    "def rule3 (dA,dB):\n",
    "    dQ=np.sqrt(dA**2 + dB**2)\n",
    "    return dQ"
   ]
  },
  {
   "cell_type": "code",
   "execution_count": 9,
   "metadata": {},
   "outputs": [],
   "source": [
    "def rule4(Q,A,dA,m,B,dB,n):\n",
    "    s=((m*dA/A)**2)+((n*dB/B)**2)\n",
    "    return Q*np.sqrt(s)"
   ]
  },
  {
   "cell_type": "markdown",
   "metadata": {},
   "source": [
    "$F{c} = $"
   ]
  },
  {
   "cell_type": "code",
   "execution_count": 10,
   "metadata": {},
   "outputs": [
    {
     "data": {
      "text/plain": [
       "0.09035666366700558"
      ]
     },
     "execution_count": 10,
     "metadata": {},
     "output_type": "execute_result"
    }
   ],
   "source": [
    "#lab data \n",
    "mass=.2083\n",
    "d_mass= .001\n",
    "F=0.7888683507240091\n",
    "slope= 10.424241737471668\n",
    "d_slope=1.1929392256645142\n",
    "rule4 (F,mass,d_mass,1,slope,d_slope,1)"
   ]
  },
  {
   "cell_type": "code",
   "execution_count": 11,
   "metadata": {},
   "outputs": [
    {
     "name": "stdout",
     "output_type": "stream",
     "text": [
      "0.17950549357115014\n",
      "1.1166666666666667\n"
     ]
    }
   ],
   "source": [
    "x= 1.1, 1.3, 1.4, 0.9, 0.95, 1.05\n",
    "st= np.std(x)\n",
    "avg= np.average(x)\n",
    "error= st/np.sqrt(len(x))\n",
    "print(st)\n",
    "print(avg)"
   ]
  },
  {
   "cell_type": "markdown",
   "metadata": {},
   "source": [
    "Calculations of x for standard deviation $\\sigma = .18$ and the average$ = 1.116 \\pm .07$"
   ]
  },
  {
   "cell_type": "markdown",
   "metadata": {},
   "source": [
    "#Rule 3\n",
    "\n"
   ]
  },
  {
   "cell_type": "markdown",
   "metadata": {},
   "source": [
    "$\\delta Q = \\sqrt{(\\delta A/A)^2 + (\\delta B/B)^2}$"
   ]
  },
  {
   "cell_type": "markdown",
   "metadata": {},
   "source": [
    "$\\Sigma F_c = \\frac{4(\\Pi)^2*m}{slope}$"
   ]
  },
  {
   "cell_type": "code",
   "execution_count": null,
   "metadata": {},
   "outputs": [],
   "source": []
  }
 ],
 "metadata": {
  "kernelspec": {
   "display_name": "Python 3",
   "language": "python",
   "name": "python3"
  },
  "language_info": {
   "codemirror_mode": {
    "name": "ipython",
    "version": 3
   },
   "file_extension": ".py",
   "mimetype": "text/x-python",
   "name": "python",
   "nbconvert_exporter": "python",
   "pygments_lexer": "ipython3",
   "version": "3.8.3"
  }
 },
 "nbformat": 4,
 "nbformat_minor": 4
}
